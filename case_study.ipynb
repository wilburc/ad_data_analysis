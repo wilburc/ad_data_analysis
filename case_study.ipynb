{
 "cells": [
  {
   "cell_type": "markdown",
   "metadata": {},
   "source": [
    "# BSSP Mini Data Case Study\n",
    "\n",
    "The goal of this case-study is to evaluate the effectiveness of the campaign, and optimize the spend."
   ]
  },
  {
   "cell_type": "code",
   "execution_count": null,
   "metadata": {
    "collapsed": false
   },
   "outputs": [],
   "source": [
    "import pandas as pd\n",
    "import numpy as np"
   ]
  },
  {
   "cell_type": "code",
   "execution_count": null,
   "metadata": {
    "collapsed": true
   },
   "outputs": [],
   "source": [
    "## Save both sheets of data as CSV files\n",
    "## - “Main Data” tab saved as sample_data_main.csv\n",
    "## - “ProgDSP” tab saved as sample_data_progdsp.csv\n",
    "main_data = pd.read_csv('sample_data_main.csv')\n",
    "progdsp = pd.read_csv('sample_data_progdsp.csv')"
   ]
  },
  {
   "cell_type": "markdown",
   "metadata": {},
   "source": [
    "Peek at what we’re working with "
   ]
  },
  {
   "cell_type": "code",
   "execution_count": null,
   "metadata": {
    "collapsed": false,
    "scrolled": true
   },
   "outputs": [],
   "source": [
    "## Appears to be data at the daily + placement/creative level\n",
    "main_data.head()"
   ]
  },
  {
   "cell_type": "code",
   "execution_count": null,
   "metadata": {
    "collapsed": false,
    "scrolled": true
   },
   "outputs": [],
   "source": [
    "## Appears to be data from ProgDSP placements, includes their spend (not found in main_data)\n",
    "progdsp.head()"
   ]
  },
  {
   "cell_type": "markdown",
   "metadata": {},
   "source": [
    "## Task 1. \n",
    "### Evaluate performance of campaign\n",
    "\n",
    "Not sure what the KPI’s were, so I’ll just look at \n",
    "CTR/CPC/CPM/CPA/Conversion Rate (CR), and provide a summary"
   ]
  },
  {
   "cell_type": "code",
   "execution_count": null,
   "metadata": {
    "collapsed": false
   },
   "outputs": [],
   "source": [
    "## Create some functions that can be re-used\n",
    "def get_cpm(cost,impressions):\n",
    "    try:\n",
    "        cpm = (float(cost) * 1000)/float(impressions)\n",
    "        cpm = '{0:,.2f}'.format(cpm) ## reduce to 2 decimal places, add thousands commas\n",
    "    except ZeroDivisionError:\n",
    "        cpm = 0\n",
    "    return cpm\n",
    "\n",
    "def get_cpc(cost,clicks):\n",
    "    try:\n",
    "        cpc = float(clicks)/float(cost)\n",
    "        cpc = '{0:,.2f}'.format(cpc)\n",
    "    except ZeroDivisionError:\n",
    "        cpc = 0\n",
    "    return cpc\n",
    "\n",
    "def get_ctr(clicks,impressions):\n",
    "    try:\n",
    "        ctr = (float(clicks)/float(impressions)) * 100\n",
    "        ctr = '{0:,.4f}'.format(ctr)\n",
    "    except ZeroDivisionError:\n",
    "        ctr = 0\n",
    "    return ctr\n",
    "\n",
    "def get_cpa(cost,conversions):\n",
    "    try:\n",
    "        cpa = float(cost)/float(conversions)\n",
    "        cpa = '{0:,.2f}'.format(cpa)\n",
    "    except ZeroDivisionError:\n",
    "        cpa = 0\n",
    "    return cpa\n",
    "\n",
    "def get_cr(conversions,impressions):\n",
    "    try:\n",
    "        cr = (float(conversions)/float(impressions)) * 100\n",
    "        cr = '{0:,.4f}'.format(cr)\n",
    "    except ZeroDivisionError:\n",
    "        cr = 0\n",
    "    return cr\n",
    "\n",
    "## and if we have a dataframe, we can wrap these up for convenience\n",
    "def get_stats(df,cost=True):\n",
    "    df = df.agg('sum').join(pd.DataFrame(df.size(), columns=['Placement Count']))\n",
    "    df['CTR'] = df.apply(lambda row: float(get_ctr(row['Clicks'],row['Impressions'])), axis=1)\n",
    "    df['View_CR'] = df.apply(lambda row: float(get_cr(row['View-through Conversions'],row['Impressions'])), axis=1)\n",
    "    df['Click_CR'] = df.apply(lambda row: float(get_cr(row['Click-through Conversions'],row['Impressions'])), axis=1)\n",
    "    df['Total_CR'] = df.apply(lambda row: float(get_cr(row['Total Conversions'],row['Impressions'])), axis=1)\n",
    "    if cost:\n",
    "        df['CPM'] = df.apply(lambda row: float(get_cpm(row['Media Cost'],row['Impressions'])), axis=1)\n",
    "        df['CPC'] = df.apply(lambda row: float(get_cpc(row['Media Cost'],row['Clicks'])), axis=1)    \n",
    "        df['CPA'] = df.apply(lambda row: float(get_cpa(row['Media Cost'],row['Total Conversions'])), axis=1)\n",
    "    return df"
   ]
  },
  {
   "cell_type": "markdown",
   "metadata": {},
   "source": [
    "## Calculate these metrics for the entire campaign"
   ]
  },
  {
   "cell_type": "markdown",
   "metadata": {},
   "source": [
    "For the sake of this case study, I’ll use “Media Cost” as a proxy for “Spend”.\n",
    "\n",
    "Since ProgDSP placements’ costs aren’t in main_data, we can grab them from progdsp"
   ]
  },
  {
   "cell_type": "code",
   "execution_count": null,
   "metadata": {
    "collapsed": false
   },
   "outputs": [],
   "source": [
    "total_clicks = sum(main_data['Clicks'])\n",
    "total_impressions = sum(main_data['Impressions'])\n",
    "total_cost = sum(main_data['Media Cost']) + sum(progdsp['Spend'])\n",
    "total_conversions = sum(main_data['Total Conversions'])\n",
    "\n",
    "print 'Total Cost: \\n${:,.2f}\\n'.format(total_cost)\n",
    "print 'Total Impressions: \\n{:,}\\n'.format(total_impressions)\n",
    "print 'Total Clicks: \\n{:,}\\n'.format(total_clicks)\n",
    "print 'Total Conversions: \\n{:,}\\n'.format(total_conversions)\n",
    "\n",
    "\n",
    "total_cpm = get_cpm(total_cost,total_impressions)\n",
    "print 'Overall campaign CPM:\\n${0}\\n'.format(total_cpm)\n",
    "\n",
    "total_cpc = get_cpc(total_cost,total_clicks)\n",
    "print 'Overall campaign CPC:\\n${0}\\n'.format(total_cpc)\n",
    "\n",
    "total_cpa = get_cpa(total_cost,total_conversions)\n",
    "print 'Overall campaign CPA:\\n${0}\\n'.format(total_cpa)\n",
    "\n",
    "total_ctr = get_ctr(total_clicks,total_impressions)\n",
    "print 'Overall campaign CTR:\\n{0}%\\n'.format(total_ctr)\n",
    "\n",
    "total_cr = get_cr(total_conversions,total_impressions)\n",
    "print 'Overall campaign CR:\\n{0}%'.format(total_cr)"
   ]
  },
  {
   "cell_type": "markdown",
   "metadata": {},
   "source": [
    "## 2. We can break this down to the daily placement level"
   ]
  },
  {
   "cell_type": "code",
   "execution_count": null,
   "metadata": {
    "collapsed": false,
    "scrolled": true
   },
   "outputs": [],
   "source": [
    "## Create a copy of main_data to wrangle and add columns to\n",
    "p_daily = main_data.copy()\n",
    "\n",
    "## We want to group by columns 'Placement' and 'Date', as well as the other categoricals.\n",
    "## Then, aggregate (sum) the delivery metrics\n",
    "group_col = ['Date','Placement','Site (DCM)']\n",
    "sum_col = ['Impressions','Clicks','Total Conversions','Click-through Conversions'\n",
    "           ,'View-through Conversions','Media Cost']\n",
    "\n",
    "## Remove the other columns, then group by placement/date and sum the rest\n",
    "p_daily = p_daily[group_col + sum_col]\n",
    "p_daily = p_daily.groupby(group_col, as_index=False).sum()\n",
    "\n",
    "## order by Date and Placement\n",
    "p_daily = p_daily.sort_values(['Date','Placement'])"
   ]
  },
  {
   "cell_type": "markdown",
   "metadata": {},
   "source": [
    "The media costs for ProgDSP placements aren’t in this dataframe. \n",
    "\n",
    "We can grab them from the ProgDSP dataframe."
   ]
  },
  {
   "cell_type": "code",
   "execution_count": null,
   "metadata": {
    "collapsed": false
   },
   "outputs": [],
   "source": [
    "## Create a copy of progdsp that we can adjust (while preserving the original dataframe)\n",
    "temp = progdsp.copy()\n",
    "\n",
    "## Since we’re using Spend as a proxy for media cost, rename the column\n",
    "temp = temp.rename(columns={'Spend':'Media Cost'})\n",
    "\n",
    "## Remove irrelevant columns\n",
    "relevant_columns = ['Date','Media Cost','Placement']\n",
    "temp = temp[relevant_columns]\n",
    "\n",
    "## Change the ”0” values of ProgDSP costs to np.NaN so we can use df.fillna function\n",
    "p_daily.loc[p_daily['Site (DCM)'] == 'ProgDSP','Media Cost'] = np.NaN\n",
    "\n",
    "## Merge the two dataframes to get ProgDSP costs\n",
    "p_daily = p_daily.merge(temp,on=['Placement','Date'],how='left')\n",
    "\n",
    "## Replace the NaN values with their costs\n",
    "p_daily['Media Cost_x'] = p_daily['Media Cost_x'].fillna(p_daily['Media Cost_y'])\n",
    "\n",
    "## Clean up the columns\n",
    "p_daily = p_daily.rename(columns={'Media Cost_x':'Media Cost'})\n",
    "del p_daily['Media Cost_y']\n",
    "p_daily['Date'] = pd.to_datetime(p_daily['Date'], format='%m/%d/%y')\n",
    "p_daily['Date'] = p_daily['Date'].apply(lambda date: date.strftime('%m/%d/%y'))\n",
    "\n",
    "## Sort by date\n",
    "p_daily = p_daily.sort_values(['Date'])\n",
    "\n",
    "p_daily"
   ]
  },
  {
   "cell_type": "code",
   "execution_count": null,
   "metadata": {
    "collapsed": false
   },
   "outputs": [],
   "source": [
    "## Apply our calculation functions over the observations/rows\n",
    "p_daily['CPM'] = p_daily.apply(lambda row: float(get_cpm(row['Media Cost'],row['Impressions'])), axis=1)\n",
    "p_daily['CPC'] = p_daily.apply(lambda row: float(get_cpc(row['Media Cost'],row['Clicks'])), axis=1)\n",
    "p_daily['CTR'] = p_daily.apply(lambda row: float(get_ctr(row['Clicks'],row['Impressions'])), axis=1)\n",
    "p_daily['CPA'] = p_daily.apply(lambda row: float(get_cpa(row['Media Cost'],row['Total Conversions'])), axis=1)\n",
    "p_daily['Total_CR'] = p_daily.apply(lambda row: float(get_cr(row['Total Conversions'],row['Impressions'])), axis=1)\n",
    "p_daily['View_CR'] = p_daily.apply(lambda row: float(get_cr(row['View-through Conversions'],row['Impressions'])), axis=1)\n",
    "p_daily['Click_CR'] = p_daily.apply(lambda row: float(get_cr(row['Click-through Conversions'],row['Impressions'])), axis=1)"
   ]
  },
  {
   "cell_type": "markdown",
   "metadata": {},
   "source": [
    "With this data, we can look at some summary statistics.\n",
    "These can be compared against campaign KPI’s to determine effectiveness"
   ]
  },
  {
   "cell_type": "code",
   "execution_count": null,
   "metadata": {
    "collapsed": false,
    "scrolled": true
   },
   "outputs": [],
   "source": [
    "summary = p_daily.describe()\n",
    "\n",
    "## Format the columns\n",
    "for col in ['Impressions','Clicks','Total Conversions','Click-through Conversions','View-through Conversions']:\n",
    "    summary[col] = summary[col].astype(int)\n",
    "for col in ['Media Cost','CPM','CPC']:\n",
    "    summary[col] = summary[col].map('${:,.2f}'.format)\n",
    "summary.drop(summary.index[0],inplace=True)\n",
    "\n",
    "summary"
   ]
  },
  {
   "cell_type": "markdown",
   "metadata": {},
   "source": [
    "## Task 2.\n",
    "### Optimizing Spend\n",
    "\n",
    "First, we can see how each placement performed through the entire campaign flight length (rather, the range of the dataset).\n",
    "\n",
    "Then, we can compare performance of individual placement features."
   ]
  },
  {
   "cell_type": "code",
   "execution_count": null,
   "metadata": {
    "collapsed": false,
    "scrolled": true
   },
   "outputs": [],
   "source": [
    "## Create a copy of our placements from the previous step\n",
    "placements = p_daily.copy()\n",
    "\n",
    "## Remove irrelevant columns from our copied dataframe\n",
    "relevant_columns = ['Placement','Impressions','Clicks','Total Conversions','Click-through Conversions'\n",
    "                   ,'View-through Conversions','Media Cost']\n",
    "placements = placements[relevant_columns]\n",
    "\n",
    "## Organize and summarize the dataframe\n",
    "placements = placements.groupby(['Placement'])\n",
    "placements = get_stats(placements)\n",
    "\n",
    "## Make output more readable\n",
    "pd.options.display.float_format = '{:,.4f}%'.format\n",
    "organized_columns = ['Placement Count','Media Cost','CPM','CPC','CPA','CTR','View_CR','Click_CR','Total_CR']\n",
    "placements = placements[organized_columns]\n",
    "placements = placements.sort_values(['CPA'])\n",
    "placements = placements.rename(columns={'Placement Count':'Flight Days'})\n",
    "\n",
    "## Format our CPM/CPC/CPA columns to have dollar signs instead of percent signs\n",
    "## Create a copy of this dataframe to format, so we can keep using the raw statistics just in case\n",
    "placements = placements.copy()\n",
    "for col in ['Media Cost','CPM','CPC','CPA']:\n",
    "    placements[col] = placements[col].map('${:,.2f}'.format)\n",
    "\n",
    "placements"
   ]
  },
  {
   "cell_type": "markdown",
   "metadata": {},
   "source": [
    "The Spend + KPI’s of the above data can be compared against delivery goals of the campaign.\n",
    "They can be used to allocate future placements, given a campaign goal and budget.\n",
    "\n",
    "Further analysis can be performed on other features of placements, such as creative copy or ad-size.\n",
    "\n",
    "### Starting with creative copy"
   ]
  },
  {
   "cell_type": "code",
   "execution_count": null,
   "metadata": {
    "collapsed": false
   },
   "outputs": [],
   "source": [
    "## Get a copy dataframe of all the placements and unique creatives.\n",
    "creative = main_data.copy()\n",
    "\n",
    "## Because it’s unclear how spend was allocated among ProgDSP placements’ different creative, \n",
    "## we will not calculate CPM/CPC.\n",
    "\n",
    "## Remove irrelevant columns from our copied dataframe\n",
    "relevant_columns = ['Creative','Impressions','Clicks','Total Conversions','Click-through Conversions'\n",
    "                   ,'View-through Conversions']\n",
    "creative = creative[relevant_columns]\n",
    "\n",
    "## Extract the actual creative copy from the 'Creative' field\n",
    "creative['Creative'] = creative.apply(lambda row: row['Creative'].split('_')[1], axis=1)\n",
    "\n",
    "## Organize and summarize the dataframe\n",
    "creative = creative.groupby(['Creative'])\n",
    "creative = get_stats(creative,cost=False)\n",
    "\n",
    "## Make output more readable\n",
    "pd.options.display.float_format = '{:,.4f}%'.format\n",
    "organized_columns = ['Placement Count','CTR','View_CR','Click_CR','Total_CR']\n",
    "creative = creative[organized_columns]\n",
    "creative = creative.sort_values(['CTR'],ascending=False)\n",
    "\n",
    "creative"
   ]
  },
  {
   "cell_type": "markdown",
   "metadata": {},
   "source": [
    "Because there wasn’t the data to associate costs with creative, CTR can be examined instead of CPA.\n",
    "\n",
    "### Next, we’ll do the same thing for ad-size"
   ]
  },
  {
   "cell_type": "code",
   "execution_count": null,
   "metadata": {
    "collapsed": false,
    "scrolled": true
   },
   "outputs": [],
   "source": [
    "## Get a copy of all unique placements including their costs\n",
    "ad_size = p_daily.copy()\n",
    "\n",
    "## Remove irrelevant columns from our copied dataframe\n",
    "relevant_columns = ['Placement','Impressions','Clicks','Total Conversions','Click-through Conversions'\n",
    "                   ,'View-through Conversions','Media Cost']\n",
    "ad_size = ad_size[relevant_columns]\n",
    "\n",
    "## Extract the Ad-Size from the 'Placement' field\n",
    "ad_size['Ad-Size'] = ad_size.apply(lambda row: row['Placement'].split('_')[2], axis=1)\n",
    "del ad_size['Placement']\n",
    "\n",
    "## Organize and summarize the dataframe\n",
    "ad_size = ad_size.groupby(['Ad-Size'])\n",
    "ad_size = get_stats(ad_size)\n",
    "\n",
    "## Make output more readable\n",
    "organized_columns = ['Placement Count','Media Cost','CPM','CPC','CPA','CTR','View_CR','Click_CR','Total_CR']\n",
    "ad_size = ad_size[organized_columns]\n",
    "ad_size = ad_size.sort_values(['CPA'])\n",
    "\n",
    "## Format our CPM/CPC/CPA columns to have dollar signs instead of percent signs\n",
    "## Create a copy of this dataframe to format, so we can keep using the raw statistics just in case\n",
    "ad_size_copy = ad_size.copy()\n",
    "ad_size_copy['Media Cost'] = ad_size_copy['Media Cost'].map('${:,.2f}'.format)\n",
    "ad_size_copy['CPM'] = ad_size_copy['CPM'].map('${:,.2f}'.format)\n",
    "ad_size_copy['CPC'] = ad_size_copy['CPC'].map('${:,.2f}'.format)\n",
    "ad_size_copy['CPA'] = ad_size_copy['CPA'].map('${:,.2f}'.format)\n",
    "\n",
    "ad_size_copy"
   ]
  },
  {
   "cell_type": "code",
   "execution_count": null,
   "metadata": {
    "collapsed": true
   },
   "outputs": [],
   "source": []
  }
 ],
 "metadata": {
  "kernelspec": {
   "display_name": "Python 2",
   "language": "python",
   "name": "python2"
  },
  "language_info": {
   "codemirror_mode": {
    "name": "ipython",
    "version": 2
   },
   "file_extension": ".py",
   "mimetype": "text/x-python",
   "name": "python",
   "nbconvert_exporter": "python",
   "pygments_lexer": "ipython2",
   "version": "2.7.9"
  }
 },
 "nbformat": 4,
 "nbformat_minor": 0
}
